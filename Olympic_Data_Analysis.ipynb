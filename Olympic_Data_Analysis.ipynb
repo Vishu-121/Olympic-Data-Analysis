{
  "nbformat": 4,
  "nbformat_minor": 0,
  "metadata": {
    "colab": {
      "name": "Olympic Data Analysis.ipynb",
      "provenance": [],
      "collapsed_sections": [],
      "authorship_tag": "ABX9TyMHHI6JBXqiKRh6wkwakg2Q",
      "include_colab_link": true
    },
    "kernelspec": {
      "name": "python3",
      "display_name": "Python 3"
    },
    "language_info": {
      "name": "python"
    }
  },
  "cells": [
    {
      "cell_type": "markdown",
      "metadata": {
        "id": "view-in-github",
        "colab_type": "text"
      },
      "source": [
        "<a href=\"https://colab.research.google.com/github/Vishu-121/Olympic-Data-Analysis/blob/main/Olympic_Data_Analysis.ipynb\" target=\"_parent\"><img src=\"https://colab.research.google.com/assets/colab-badge.svg\" alt=\"Open In Colab\"/></a>"
      ]
    },
    {
      "cell_type": "markdown",
      "source": [
        "This is part of my internship program, where I have to complete this assignment.\n",
        "Some Analysis are done on the Summer Olympics Dataset."
      ],
      "metadata": {
        "id": "nZJlqonDNiGs"
      }
    },
    {
      "cell_type": "code",
      "execution_count": null,
      "metadata": {
        "colab": {
          "base_uri": "https://localhost:8080/"
        },
        "id": "LVBL8eqwQBUW",
        "outputId": "f6fa3ddb-75f8-4c02-d50a-b7bd6112e44b"
      },
      "outputs": [
        {
          "output_type": "stream",
          "name": "stdout",
          "text": [
            "Drive already mounted at /content/drive; to attempt to forcibly remount, call drive.mount(\"/content/drive\", force_remount=True).\n"
          ]
        }
      ],
      "source": [
        "#Importing drive-library from colab module\n",
        "from google.colab import drive\n",
        "drive.mount(\"/content/drive\")"
      ]
    },
    {
      "cell_type": "code",
      "source": [
        "#Importing Pandas library\n",
        "import pandas as pd\n",
        "df=pd.read_csv(\"/content/drive/MyDrive/Colab Notebooks/Summer Olympics.csv\")\n",
        "df"
      ],
      "metadata": {
        "colab": {
          "base_uri": "https://localhost:8080/",
          "height": 424
        },
        "id": "R6WECRyxXsOy",
        "outputId": "5814bef5-889a-458d-9382-577e77adf4f0"
      },
      "execution_count": null,
      "outputs": [
        {
          "output_type": "execute_result",
          "data": {
            "text/plain": [
              "       Unnamed: 0  Year    City      Sport           Discipline  \\\n",
              "0               0  1896  Athens   Aquatics             Swimming   \n",
              "1               1  1896  Athens   Aquatics             Swimming   \n",
              "2               2  1896  Athens   Aquatics             Swimming   \n",
              "3               3  1896  Athens   Aquatics             Swimming   \n",
              "4               4  1896  Athens   Aquatics             Swimming   \n",
              "...           ...   ...     ...        ...                  ...   \n",
              "31160       31160  2012  London  Wrestling  Wrestling Freestyle   \n",
              "31161       31161  2012  London  Wrestling  Wrestling Freestyle   \n",
              "31162       31162  2012  London  Wrestling  Wrestling Freestyle   \n",
              "31163       31163  2012  London  Wrestling  Wrestling Freestyle   \n",
              "31164       31164  2012  London  Wrestling  Wrestling Freestyle   \n",
              "\n",
              "                         Athlete Country Gender                       Event  \\\n",
              "0                  HAJOS, Alfred     HUN    Men              100M Freestyle   \n",
              "1               HERSCHMANN, Otto     AUT    Men              100M Freestyle   \n",
              "2              DRIVAS, Dimitrios     GRE    Men  100M Freestyle For Sailors   \n",
              "3             MALOKINIS, Ioannis     GRE    Men  100M Freestyle For Sailors   \n",
              "4             CHASAPIS, Spiridon     GRE    Men  100M Freestyle For Sailors   \n",
              "...                          ...     ...    ...                         ...   \n",
              "31160         JANIKOWSKI, Damian     POL    Men                    Wg 84 KG   \n",
              "31161  REZAEI, Ghasem Gholamreza     IRI    Men                    Wg 96 KG   \n",
              "31162             TOTROV, Rustam     RUS    Men                    Wg 96 KG   \n",
              "31163          ALEKSANYAN, Artur     ARM    Men                    Wg 96 KG   \n",
              "31164             LIDBERG, Jimmy     SWE    Men                    Wg 96 KG   \n",
              "\n",
              "        Medal  \n",
              "0        Gold  \n",
              "1      Silver  \n",
              "2      Bronze  \n",
              "3        Gold  \n",
              "4      Silver  \n",
              "...       ...  \n",
              "31160  Bronze  \n",
              "31161    Gold  \n",
              "31162  Silver  \n",
              "31163  Bronze  \n",
              "31164  Bronze  \n",
              "\n",
              "[31165 rows x 10 columns]"
            ],
            "text/html": [
              "\n",
              "  <div id=\"df-9969648d-d540-4a37-bdd5-23383d80dc24\">\n",
              "    <div class=\"colab-df-container\">\n",
              "      <div>\n",
              "<style scoped>\n",
              "    .dataframe tbody tr th:only-of-type {\n",
              "        vertical-align: middle;\n",
              "    }\n",
              "\n",
              "    .dataframe tbody tr th {\n",
              "        vertical-align: top;\n",
              "    }\n",
              "\n",
              "    .dataframe thead th {\n",
              "        text-align: right;\n",
              "    }\n",
              "</style>\n",
              "<table border=\"1\" class=\"dataframe\">\n",
              "  <thead>\n",
              "    <tr style=\"text-align: right;\">\n",
              "      <th></th>\n",
              "      <th>Unnamed: 0</th>\n",
              "      <th>Year</th>\n",
              "      <th>City</th>\n",
              "      <th>Sport</th>\n",
              "      <th>Discipline</th>\n",
              "      <th>Athlete</th>\n",
              "      <th>Country</th>\n",
              "      <th>Gender</th>\n",
              "      <th>Event</th>\n",
              "      <th>Medal</th>\n",
              "    </tr>\n",
              "  </thead>\n",
              "  <tbody>\n",
              "    <tr>\n",
              "      <th>0</th>\n",
              "      <td>0</td>\n",
              "      <td>1896</td>\n",
              "      <td>Athens</td>\n",
              "      <td>Aquatics</td>\n",
              "      <td>Swimming</td>\n",
              "      <td>HAJOS, Alfred</td>\n",
              "      <td>HUN</td>\n",
              "      <td>Men</td>\n",
              "      <td>100M Freestyle</td>\n",
              "      <td>Gold</td>\n",
              "    </tr>\n",
              "    <tr>\n",
              "      <th>1</th>\n",
              "      <td>1</td>\n",
              "      <td>1896</td>\n",
              "      <td>Athens</td>\n",
              "      <td>Aquatics</td>\n",
              "      <td>Swimming</td>\n",
              "      <td>HERSCHMANN, Otto</td>\n",
              "      <td>AUT</td>\n",
              "      <td>Men</td>\n",
              "      <td>100M Freestyle</td>\n",
              "      <td>Silver</td>\n",
              "    </tr>\n",
              "    <tr>\n",
              "      <th>2</th>\n",
              "      <td>2</td>\n",
              "      <td>1896</td>\n",
              "      <td>Athens</td>\n",
              "      <td>Aquatics</td>\n",
              "      <td>Swimming</td>\n",
              "      <td>DRIVAS, Dimitrios</td>\n",
              "      <td>GRE</td>\n",
              "      <td>Men</td>\n",
              "      <td>100M Freestyle For Sailors</td>\n",
              "      <td>Bronze</td>\n",
              "    </tr>\n",
              "    <tr>\n",
              "      <th>3</th>\n",
              "      <td>3</td>\n",
              "      <td>1896</td>\n",
              "      <td>Athens</td>\n",
              "      <td>Aquatics</td>\n",
              "      <td>Swimming</td>\n",
              "      <td>MALOKINIS, Ioannis</td>\n",
              "      <td>GRE</td>\n",
              "      <td>Men</td>\n",
              "      <td>100M Freestyle For Sailors</td>\n",
              "      <td>Gold</td>\n",
              "    </tr>\n",
              "    <tr>\n",
              "      <th>4</th>\n",
              "      <td>4</td>\n",
              "      <td>1896</td>\n",
              "      <td>Athens</td>\n",
              "      <td>Aquatics</td>\n",
              "      <td>Swimming</td>\n",
              "      <td>CHASAPIS, Spiridon</td>\n",
              "      <td>GRE</td>\n",
              "      <td>Men</td>\n",
              "      <td>100M Freestyle For Sailors</td>\n",
              "      <td>Silver</td>\n",
              "    </tr>\n",
              "    <tr>\n",
              "      <th>...</th>\n",
              "      <td>...</td>\n",
              "      <td>...</td>\n",
              "      <td>...</td>\n",
              "      <td>...</td>\n",
              "      <td>...</td>\n",
              "      <td>...</td>\n",
              "      <td>...</td>\n",
              "      <td>...</td>\n",
              "      <td>...</td>\n",
              "      <td>...</td>\n",
              "    </tr>\n",
              "    <tr>\n",
              "      <th>31160</th>\n",
              "      <td>31160</td>\n",
              "      <td>2012</td>\n",
              "      <td>London</td>\n",
              "      <td>Wrestling</td>\n",
              "      <td>Wrestling Freestyle</td>\n",
              "      <td>JANIKOWSKI, Damian</td>\n",
              "      <td>POL</td>\n",
              "      <td>Men</td>\n",
              "      <td>Wg 84 KG</td>\n",
              "      <td>Bronze</td>\n",
              "    </tr>\n",
              "    <tr>\n",
              "      <th>31161</th>\n",
              "      <td>31161</td>\n",
              "      <td>2012</td>\n",
              "      <td>London</td>\n",
              "      <td>Wrestling</td>\n",
              "      <td>Wrestling Freestyle</td>\n",
              "      <td>REZAEI, Ghasem Gholamreza</td>\n",
              "      <td>IRI</td>\n",
              "      <td>Men</td>\n",
              "      <td>Wg 96 KG</td>\n",
              "      <td>Gold</td>\n",
              "    </tr>\n",
              "    <tr>\n",
              "      <th>31162</th>\n",
              "      <td>31162</td>\n",
              "      <td>2012</td>\n",
              "      <td>London</td>\n",
              "      <td>Wrestling</td>\n",
              "      <td>Wrestling Freestyle</td>\n",
              "      <td>TOTROV, Rustam</td>\n",
              "      <td>RUS</td>\n",
              "      <td>Men</td>\n",
              "      <td>Wg 96 KG</td>\n",
              "      <td>Silver</td>\n",
              "    </tr>\n",
              "    <tr>\n",
              "      <th>31163</th>\n",
              "      <td>31163</td>\n",
              "      <td>2012</td>\n",
              "      <td>London</td>\n",
              "      <td>Wrestling</td>\n",
              "      <td>Wrestling Freestyle</td>\n",
              "      <td>ALEKSANYAN, Artur</td>\n",
              "      <td>ARM</td>\n",
              "      <td>Men</td>\n",
              "      <td>Wg 96 KG</td>\n",
              "      <td>Bronze</td>\n",
              "    </tr>\n",
              "    <tr>\n",
              "      <th>31164</th>\n",
              "      <td>31164</td>\n",
              "      <td>2012</td>\n",
              "      <td>London</td>\n",
              "      <td>Wrestling</td>\n",
              "      <td>Wrestling Freestyle</td>\n",
              "      <td>LIDBERG, Jimmy</td>\n",
              "      <td>SWE</td>\n",
              "      <td>Men</td>\n",
              "      <td>Wg 96 KG</td>\n",
              "      <td>Bronze</td>\n",
              "    </tr>\n",
              "  </tbody>\n",
              "</table>\n",
              "<p>31165 rows × 10 columns</p>\n",
              "</div>\n",
              "      <button class=\"colab-df-convert\" onclick=\"convertToInteractive('df-9969648d-d540-4a37-bdd5-23383d80dc24')\"\n",
              "              title=\"Convert this dataframe to an interactive table.\"\n",
              "              style=\"display:none;\">\n",
              "        \n",
              "  <svg xmlns=\"http://www.w3.org/2000/svg\" height=\"24px\"viewBox=\"0 0 24 24\"\n",
              "       width=\"24px\">\n",
              "    <path d=\"M0 0h24v24H0V0z\" fill=\"none\"/>\n",
              "    <path d=\"M18.56 5.44l.94 2.06.94-2.06 2.06-.94-2.06-.94-.94-2.06-.94 2.06-2.06.94zm-11 1L8.5 8.5l.94-2.06 2.06-.94-2.06-.94L8.5 2.5l-.94 2.06-2.06.94zm10 10l.94 2.06.94-2.06 2.06-.94-2.06-.94-.94-2.06-.94 2.06-2.06.94z\"/><path d=\"M17.41 7.96l-1.37-1.37c-.4-.4-.92-.59-1.43-.59-.52 0-1.04.2-1.43.59L10.3 9.45l-7.72 7.72c-.78.78-.78 2.05 0 2.83L4 21.41c.39.39.9.59 1.41.59.51 0 1.02-.2 1.41-.59l7.78-7.78 2.81-2.81c.8-.78.8-2.07 0-2.86zM5.41 20L4 18.59l7.72-7.72 1.47 1.35L5.41 20z\"/>\n",
              "  </svg>\n",
              "      </button>\n",
              "      \n",
              "  <style>\n",
              "    .colab-df-container {\n",
              "      display:flex;\n",
              "      flex-wrap:wrap;\n",
              "      gap: 12px;\n",
              "    }\n",
              "\n",
              "    .colab-df-convert {\n",
              "      background-color: #E8F0FE;\n",
              "      border: none;\n",
              "      border-radius: 50%;\n",
              "      cursor: pointer;\n",
              "      display: none;\n",
              "      fill: #1967D2;\n",
              "      height: 32px;\n",
              "      padding: 0 0 0 0;\n",
              "      width: 32px;\n",
              "    }\n",
              "\n",
              "    .colab-df-convert:hover {\n",
              "      background-color: #E2EBFA;\n",
              "      box-shadow: 0px 1px 2px rgba(60, 64, 67, 0.3), 0px 1px 3px 1px rgba(60, 64, 67, 0.15);\n",
              "      fill: #174EA6;\n",
              "    }\n",
              "\n",
              "    [theme=dark] .colab-df-convert {\n",
              "      background-color: #3B4455;\n",
              "      fill: #D2E3FC;\n",
              "    }\n",
              "\n",
              "    [theme=dark] .colab-df-convert:hover {\n",
              "      background-color: #434B5C;\n",
              "      box-shadow: 0px 1px 3px 1px rgba(0, 0, 0, 0.15);\n",
              "      filter: drop-shadow(0px 1px 2px rgba(0, 0, 0, 0.3));\n",
              "      fill: #FFFFFF;\n",
              "    }\n",
              "  </style>\n",
              "\n",
              "      <script>\n",
              "        const buttonEl =\n",
              "          document.querySelector('#df-9969648d-d540-4a37-bdd5-23383d80dc24 button.colab-df-convert');\n",
              "        buttonEl.style.display =\n",
              "          google.colab.kernel.accessAllowed ? 'block' : 'none';\n",
              "\n",
              "        async function convertToInteractive(key) {\n",
              "          const element = document.querySelector('#df-9969648d-d540-4a37-bdd5-23383d80dc24');\n",
              "          const dataTable =\n",
              "            await google.colab.kernel.invokeFunction('convertToInteractive',\n",
              "                                                     [key], {});\n",
              "          if (!dataTable) return;\n",
              "\n",
              "          const docLinkHtml = 'Like what you see? Visit the ' +\n",
              "            '<a target=\"_blank\" href=https://colab.research.google.com/notebooks/data_table.ipynb>data table notebook</a>'\n",
              "            + ' to learn more about interactive tables.';\n",
              "          element.innerHTML = '';\n",
              "          dataTable['output_type'] = 'display_data';\n",
              "          await google.colab.output.renderOutput(dataTable, element);\n",
              "          const docLink = document.createElement('div');\n",
              "          docLink.innerHTML = docLinkHtml;\n",
              "          element.appendChild(docLink);\n",
              "        }\n",
              "      </script>\n",
              "    </div>\n",
              "  </div>\n",
              "  "
            ]
          },
          "metadata": {},
          "execution_count": 5
        }
      ]
    },
    {
      "cell_type": "markdown",
      "source": [
        "Q1. In how many countries Summer Olympic is held so far?"
      ],
      "metadata": {
        "id": "xxUpR2VbYCl-"
      }
    },
    {
      "cell_type": "code",
      "source": [
        "#Display the len of unique countries\n",
        "print(\"In \"+str(len(df[\"Country\"].unique()))+\" countries Summer Olympics held so far.\")"
      ],
      "metadata": {
        "colab": {
          "base_uri": "https://localhost:8080/"
        },
        "id": "NsX6DRwjYPgv",
        "outputId": "3d812526-3dcb-4c4a-d077-35c5516d88b9"
      },
      "execution_count": null,
      "outputs": [
        {
          "output_type": "stream",
          "name": "stdout",
          "text": [
            "In 148 countries Summer Olympics held so far.\n"
          ]
        }
      ]
    },
    {
      "cell_type": "markdown",
      "source": [
        "Q2. Which sport is having most number of Gold Medals so far?(Top 5)"
      ],
      "metadata": {
        "id": "sJel0-U8ouu1"
      }
    },
    {
      "cell_type": "code",
      "source": [
        "#Filter the dataframe by choosing only those rows which have gold medal\n",
        "#Groupby the Sport column with the count of Medal column\n",
        "df_gold=df[df[\"Medal\"]==\"Gold\"]\n",
        "df_gold.groupby(\"Sport\").count()[\"Medal\"].sort_values(ascending=False).head().plot(kind=\"bar\", figsize=(6,5))"
      ],
      "metadata": {
        "colab": {
          "base_uri": "https://localhost:8080/",
          "height": 400
        },
        "id": "PPcO_vfoZHVF",
        "outputId": "ba1bd0db-b5cb-4c75-f2ef-ae0b9ca22fb8"
      },
      "execution_count": null,
      "outputs": [
        {
          "output_type": "execute_result",
          "data": {
            "text/plain": [
              "<matplotlib.axes._subplots.AxesSubplot at 0x7fe7cd0522d0>"
            ]
          },
          "metadata": {},
          "execution_count": 33
        },
        {
          "output_type": "display_data",
          "data": {
            "text/plain": [
              "<Figure size 432x360 with 1 Axes>"
            ],
            "image/png": "[encoded data removed]"
          },
          "metadata": {
            "needs_background": "light"
          }
        }
      ]
    },
    {
      "cell_type": "markdown",
      "source": [
        "Q3. Which Sport is having most number of medals so far?(Top 5)"
      ],
      "metadata": {
        "id": "YqRjzLElju-1"
      }
    },
    {
      "cell_type": "code",
      "source": [
        "#Groupby the Sport column with the count of Medal column\n",
        "df.groupby(\"Sport\").count()[\"Medal\"].sort_values(ascending=False).head().plot(kind=\"bar\",figsize=(6,5))"
      ],
      "metadata": {
        "colab": {
          "base_uri": "https://localhost:8080/",
          "height": 400
        },
        "id": "E25ZUMBcj5Sw",
        "outputId": "79c7a8e4-8ff0-42f4-9ae9-ba434a903867"
      },
      "execution_count": null,
      "outputs": [
        {
          "output_type": "execute_result",
          "data": {
            "text/plain": [
              "<matplotlib.axes._subplots.AxesSubplot at 0x7fe7cc738e10>"
            ]
          },
          "metadata": {},
          "execution_count": 35
        },
        {
          "output_type": "display_data",
          "data": {
            "text/plain": [
              "<Figure size 432x360 with 1 Axes>"
            ],
            "image/png": "[encoded data removed]"
          },
          "metadata": {
            "needs_background": "light"
          }
        }
      ]
    },
    {
      "cell_type": "markdown",
      "source": [
        "Q4. Which player has won most number of medals?(Top 5)"
      ],
      "metadata": {
        "id": "gO97tkXRl17m"
      }
    },
    {
      "cell_type": "code",
      "source": [
        "#Groupby the Athlete column with the count of Medal column\n",
        "df.groupby(\"Athlete\").count()[\"Medal\"].sort_values(ascending=False).head().plot(kind=\"bar\",figsize=(6,5))"
      ],
      "metadata": {
        "colab": {
          "base_uri": "https://localhost:8080/",
          "height": 459
        },
        "id": "WxMaGLoNmARA",
        "outputId": "a3a6687a-d57b-4145-81fe-21d1f3630d57"
      },
      "execution_count": null,
      "outputs": [
        {
          "output_type": "execute_result",
          "data": {
            "text/plain": [
              "<matplotlib.axes._subplots.AxesSubplot at 0x7fe7ccde0a10>"
            ]
          },
          "metadata": {},
          "execution_count": 39
        },
        {
          "output_type": "display_data",
          "data": {
            "text/plain": [
              "<Figure size 432x360 with 1 Axes>"
            ],
            "image/png": "[encoded data removed]"
          },
          "metadata": {
            "needs_background": "light"
          }
        }
      ]
    },
    {
      "cell_type": "markdown",
      "source": [
        "Q5. Which player has wom most number of gold medals?(Top 5)"
      ],
      "metadata": {
        "id": "6Q764CShmyZF"
      }
    },
    {
      "cell_type": "code",
      "source": [
        "#Filter the dataframe by choosing only those rows which have gold medal\n",
        "#Groupby the Athelete column with the count of Medal column\n",
        "df_pg=df[df[\"Medal\"]==\"Gold\"]\n",
        "df_pg.groupby(\"Athlete\").count()[\"Medal\"].sort_values(ascending=False).head().plot.bar(figsize=(6,5))"
      ],
      "metadata": {
        "colab": {
          "base_uri": "https://localhost:8080/",
          "height": 427
        },
        "id": "7-huBdEVm_uh",
        "outputId": "f1ba4def-1656-48d2-f8ba-212f2976c533"
      },
      "execution_count": null,
      "outputs": [
        {
          "output_type": "execute_result",
          "data": {
            "text/plain": [
              "<matplotlib.axes._subplots.AxesSubplot at 0x7fe7cc6e6d10>"
            ]
          },
          "metadata": {},
          "execution_count": 43
        },
        {
          "output_type": "display_data",
          "data": {
            "text/plain": [
              "<Figure size 432x360 with 1 Axes>"
            ],
            "image/png": "[encoded data removed]"
          },
          "metadata": {
            "needs_background": "light"
          }
        }
      ]
    },
    {
      "cell_type": "markdown",
      "source": [
        "Q6. In which year india won first gold medal?"
      ],
      "metadata": {
        "id": "B5N2yddyozH-"
      }
    },
    {
      "cell_type": "code",
      "source": [
        "#Filter the dataframe by choosing only those rows which have gold medal\n",
        "#Filter the dataframe by choosing only those rows which have country IND\n",
        "df_g=df[df[\"Medal\"]==\"Gold\"]\n",
        "df_ig=df_g[df_g[\"Country\"]==\"IND\"]\n",
        "\n",
        "print(df_ig[\"Year\"].min())"
      ],
      "metadata": {
        "id": "QhCdNl2qpFYf",
        "colab": {
          "base_uri": "https://localhost:8080/"
        },
        "outputId": "2baece77-b1d9-4680-8f54-2163270cc850"
      },
      "execution_count": null,
      "outputs": [
        {
          "output_type": "stream",
          "name": "stdout",
          "text": [
            "1928\n"
          ]
        }
      ]
    },
    {
      "cell_type": "markdown",
      "source": [
        "Q7. Which event is most popular in terms on number of players?(Top 5)"
      ],
      "metadata": {
        "id": "tn5lhkT3qGv-"
      }
    },
    {
      "cell_type": "code",
      "source": [
        "#Groupby the Event column with the count of Athelete column\n",
        "df.groupby(\"Event\").count()[\"Athlete\"].sort_values(ascending=False).head().plot(kind=\"bar\",figsize=(6,5))"
      ],
      "metadata": {
        "colab": {
          "base_uri": "https://localhost:8080/",
          "height": 432
        },
        "id": "O3CXATkkqC7H",
        "outputId": "097bc1aa-eabe-4535-ec6b-970d66a1bf79"
      },
      "execution_count": null,
      "outputs": [
        {
          "output_type": "execute_result",
          "data": {
            "text/plain": [
              "<matplotlib.axes._subplots.AxesSubplot at 0x7fe7cc3c3590>"
            ]
          },
          "metadata": {},
          "execution_count": 53
        },
        {
          "output_type": "display_data",
          "data": {
            "text/plain": [
              "<Figure size 432x360 with 1 Axes>"
            ],
            "image/png": "[encoded data removed]"
          },
          "metadata": {
            "needs_background": "light"
          }
        }
      ]
    },
    {
      "cell_type": "markdown",
      "source": [
        "Q8. Which sport is having most female gold medalists?(Top 5)"
      ],
      "metadata": {
        "id": "DQNFr7Udr4kQ"
      }
    },
    {
      "cell_type": "code",
      "source": [
        "#Filter the dataframe by choosing only those rows which have Gender Women\n",
        "#Filter the dataframe by choosing only those rows which have gold medal\n",
        "#Groupby the Sport column with the count of Medal column\n",
        "df_f=df[df[\"Gender\"]==\"Women\"]\n",
        "df_gf=df_f[df_f[\"Medal\"]==\"Gold\"]\n",
        "\n",
        "df_gf.groupby(\"Sport\").count()[\"Medal\"].sort_values(ascending=False).head().plot.bar(figsize=(6,5))"
      ],
      "metadata": {
        "colab": {
          "base_uri": "https://localhost:8080/",
          "height": 400
        },
        "id": "TUyHq64zsZl6",
        "outputId": "288eabc7-527c-4768-a7ec-3210dbffbdb9"
      },
      "execution_count": null,
      "outputs": [
        {
          "output_type": "execute_result",
          "data": {
            "text/plain": [
              "<matplotlib.axes._subplots.AxesSubplot at 0x7fe7cc475b90>"
            ]
          },
          "metadata": {},
          "execution_count": 56
        },
        {
          "output_type": "display_data",
          "data": {
            "text/plain": [
              "<Figure size 432x360 with 1 Axes>"
            ],
            "image/png": "[encoded data removed]"
          },
          "metadata": {
            "needs_background": "light"
          }
        }
      ]
    }
  ]
}